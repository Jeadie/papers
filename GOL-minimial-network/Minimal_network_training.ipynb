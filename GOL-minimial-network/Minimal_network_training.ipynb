{
 "cells": [
  {
   "cell_type": "code",
   "execution_count": null,
   "id": "4b6f68b0",
   "metadata": {},
   "outputs": [],
   "source": [
    "import torch\n",
    "import torch.nn as nn\n",
    "import torch.nn.functional as F\n",
    "\n",
    "from collections import OrderedDict"
   ]
  },
  {
   "cell_type": "code",
   "execution_count": null,
   "id": "e80846b5",
   "metadata": {},
   "outputs": [],
   "source": [
    "\n",
    "class GameOfLifeNN(nn.Module):\n",
    "    \"\"\" Implementation of minimal, Game of Life model from: \"It’s Hard For Neural Networks to Learn the Game of Life\"\n",
    "    \"\"\"\n",
    "    def __init__(self, n: int, m: int):\n",
    "        \"\"\" Constructor. \n",
    "        \n",
    "        Args:\n",
    "            n: Both the number of steps in the Game of Life for the model to simulation, but also\n",
    "                linear w.r.t. the number of convolutional layers (well, 2n+1).\n",
    "            m: \"where m is the factor of overcompleteness\". Describes how much additional model\n",
    "                capacity to add to the model above theoretical minimum bound (m=1).\n",
    "        \"\"\"\n",
    "        super().__init__()\n",
    "        self.n = n\n",
    "        self.m = m\n",
    "        \n",
    "        # n layers for each of n life steps in GOL.\n",
    "        # m filters for overcompleteness affects input/output shape\n",
    "        layers = [\n",
    "            ((f\"conv_{i}\", nn.Conv2d(1, 2 * m, (3, 3), padding='same')), \n",
    "            (f\"reduce_{i}\", nn.Conv2d(2 * m, m, (1, 1), padding='same'))) for i in range(n) \n",
    "        ]\n",
    "        layers = [l for nn in layers for l in nn]\n",
    "        \n",
    "        self.steps = nn.Sequential(OrderedDict(layers))\n",
    "        self.reduce_final = nn.Conv2d(m, 1, (1, 1))\n",
    "        \n",
    "\n",
    "    def forward(self, x):\n",
    "        for conv in self.steps:\n",
    "            x = F.relu(conv(x))\n",
    "\n",
    "        return torch.sigmoid(self.reduce_final(x))\n"
   ]
  },
  {
   "cell_type": "markdown",
   "id": "890c73f1",
   "metadata": {},
   "source": [
    "### From paper\n",
    "- Initialize the weights randomly from a unit normal distribution.\n",
    "- Adam optimizer (α = 0.001, β1 = 0.9, β2 = 0.999)\n",
    "- binary cross-entropy loss function on the output of the model.\n",
    "- Each instance is trained with 1 million randomly generated training examples.\n",
    "    - 100 epochs. 10,000 training examples per epoch\n",
    "    - 32 x 32 binary input. Value is 1 with probability d, drawn uniformly from [0, 1]\n",
    "- Batch size of 8.\n"
   ]
  },
  {
   "cell_type": "code",
   "execution_count": null,
   "id": "0b9c03a9",
   "metadata": {},
   "outputs": [],
   "source": [
    "n=1\n",
    "m=1\n",
    "model = GameOfLifeNN(n, m)\n",
    "loss_fn = nn.BCELoss()\n",
    "batch_size = 8\n",
    "epochs = 100\n",
    "optim = torch.optim.Adam(model.parameters())\n"
   ]
  },
  {
   "cell_type": "code",
   "execution_count": null,
   "id": "683fa8f1",
   "metadata": {},
   "outputs": [],
   "source": [
    "def create_random_inputs(examples: int = 10000, grid_size: int = 32):\n",
    "    \"\"\"Create a set of random Game of Life inputs, where each example has an alive\n",
    "    probability (for its whole board), uniformly sampled from [0, 1].\n",
    "    \n",
    "    \n",
    "    Output shape: [examples, grid_size, grid_size]\n",
    "    \"\"\"\n",
    "    d = torch.rand(examples, 1, 1, 1)\n",
    "    x = torch.rand(examples, 1, grid_size, grid_size)\n",
    "    return (x < d).float()\n",
    "\n",
    "def run_single_GOL_step(examples: torch.Tensor) -> torch.Tensor:\n",
    "    \"\"\"\"\"\"\n",
    "    # TODO: Implement correctly.\n",
    "    shape = examples.shape\n",
    "    return create_random_inputs(examples = shape[0], grid_size = shape[2])\n",
    "    \n",
    "def GOL_step(example: torch.Tensor) -> torch.Tensor:\n",
    "    pass"
   ]
  },
  {
   "cell_type": "code",
   "execution_count": null,
   "id": "bd74f441",
   "metadata": {},
   "outputs": [],
   "source": [
    "\n",
    "def train(epoch: int, model: nn.Module):\n",
    "    print(f\"Epoch: {epoch}\")\n",
    "    # Create data in bulk, split into batches\n",
    "    data = create_random_inputs()\n",
    "    target = run_single_GOL_step(data)\n",
    "    xx = torch.split(data, batch_size)\n",
    "    yy = torch.split(target, batch_size)\n",
    "\n",
    "    model.train()\n",
    "\n",
    "    for batch_idx, (x, y) in enumerate(zip(xx, yy)):\n",
    "        optim.zero_grad()\n",
    "\n",
    "        output = model(x)\n",
    "        loss = loss_fn(output, y)\n",
    "\n",
    "        loss.backward()\n",
    "        optim.step()\n",
    "        if batch_idx % 100 ==0:\n",
    "            print(f'\\t batch: {batch_idx} \\tLoss: {loss.data:.6f}')\n",
    "\n",
    "\n",
    "for i in range(4):\n",
    "    train(i, model)"
   ]
  }
 ],
 "metadata": {
  "kernelspec": {
   "display_name": "Python 3 (ipykernel)",
   "language": "python",
   "name": "python3"
  },
  "language_info": {
   "codemirror_mode": {
    "name": "ipython",
    "version": 3
   },
   "file_extension": ".py",
   "mimetype": "text/x-python",
   "name": "python",
   "nbconvert_exporter": "python",
   "pygments_lexer": "ipython3",
   "version": "3.10.5"
  }
 },
 "nbformat": 4,
 "nbformat_minor": 5
}
